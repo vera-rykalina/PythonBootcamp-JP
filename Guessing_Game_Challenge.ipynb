{
  "cells": [
    {
      "cell_type": "markdown",
      "metadata": {
        "id": "view-in-github",
        "colab_type": "text"
      },
      "source": [
        "<a href=\"https://colab.research.google.com/github/vera-rykalina/PythonBootcamp-JP/blob/main/Guessing_Game_Challenge.ipynb\" target=\"_parent\"><img src=\"https://colab.research.google.com/assets/colab-badge.svg\" alt=\"Open In Colab\"/></a>"
      ]
    },
    {
      "cell_type": "markdown",
      "metadata": {
        "id": "U44Lkhsg2QMH"
      },
      "source": [
        "# Guessing Game Challenge\n",
        "\n",
        "Let's use `while` loops to create a guessing game.\n",
        "\n",
        "The Challenge:\n",
        "\n",
        "Write a program that picks a random integer from 1 to 100, and has players guess the number. The rules are:\n",
        "\n",
        "1. If a player's guess is less than 1 or greater than 100, say \"OUT OF BOUNDS\"\n",
        "2. On a player's first turn, if their guess is\n",
        " * within 10 of the number, return \"WARM!\"\n",
        " * further than 10 away from the number, return \"COLD!\"\n",
        "3. On all subsequent turns, if a guess is \n",
        " * closer to the number than the previous guess return \"WARMER!\"\n",
        " * farther from the number than the previous guess, return \"COLDER!\"\n",
        "4. When the player's guess equals the number, tell them they've guessed correctly *and* how many guesses it took!\n",
        "\n",
        "You can try this from scratch, or follow the steps outlined below. \n"
      ]
    },
    {
      "cell_type": "markdown",
      "metadata": {
        "id": "Iz2rNd3o2QMM"
      },
      "source": [
        "#### First, pick a random integer from 1 to 100 using the random module and assign it to a variable\n",
        "\n",
        "Note: `random.randint(a,b)` returns a random integer in range `[a, b]`, including both end points."
      ]
    },
    {
      "cell_type": "code",
      "execution_count": 12,
      "metadata": {
        "colab": {
          "base_uri": "https://localhost:8080/"
        },
        "id": "-wn6KmMy2QMM",
        "outputId": "6befd4dc-d36b-47de-9b91-6330149e98f9"
      },
      "outputs": [
        {
          "output_type": "execute_result",
          "data": {
            "text/plain": [
              "69"
            ]
          },
          "metadata": {},
          "execution_count": 12
        }
      ],
      "source": [
        "import random\n",
        "\n",
        "program_num = random.randint(1, 100)\n",
        "program_num"
      ]
    },
    {
      "cell_type": "markdown",
      "metadata": {
        "id": "E8booQ3y2QMN"
      },
      "source": [
        "#### Next, print an introduction to the game and explain the rules"
      ]
    },
    {
      "cell_type": "markdown",
      "source": [
        "Welcome to the GUESS A NUMBER game!\n",
        "\n",
        "I have a number in mind between 1 and 100.\n",
        "- If your guess is more than 10 away from my number, I'll tell you you're COLD.\n",
        "- If your guess is within 10 of my number, I'll tell you YOU ARE WARM.\n",
        "- If your guess is farther than your most recent guess, I'll say YOU ARE COLDER.\n",
        "- If your guess is closer than your most recent guess, I'll say YOU ARE GETTING WARMER.\n",
        "\n",
        "Are you ready to start?\""
      ],
      "metadata": {
        "id": "L7bVW5i6eeo9"
      }
    },
    {
      "cell_type": "markdown",
      "metadata": {
        "id": "FPn_lccM2QMO"
      },
      "source": [
        "#### Create a list to store guesses\n",
        "\n",
        "Hint: zero is a good placeholder value. It's useful because it evaluates to \"False\""
      ]
    },
    {
      "cell_type": "code",
      "execution_count": 13,
      "metadata": {
        "id": "3a7XGyp82QMO"
      },
      "outputs": [],
      "source": [
        "guesses = [0]"
      ]
    },
    {
      "cell_type": "markdown",
      "metadata": {
        "id": "zFzZZ9g72QMP"
      },
      "source": [
        "#### Write a `while` loop that asks for a valid guess. Test it a few times to make sure it works."
      ]
    },
    {
      "cell_type": "code",
      "execution_count": 22,
      "metadata": {
        "colab": {
          "base_uri": "https://localhost:8080/"
        },
        "id": "57DklFx_2QMP",
        "outputId": "ddfb0b00-c4d1-439b-8c78-2353eb93d51b"
      },
      "outputs": [
        {
          "output_type": "stream",
          "name": "stdout",
          "text": [
            "I have a number on my mind. What is your guess? 77\n",
            "Hej! Your guess is valid 👍.\n"
          ]
        }
      ],
      "source": [
        "while True:\n",
        "  userguess = int(input(\"I have a number on my mind. What is your guess? \"))\n",
        "  \n",
        "  if userguess < 1 or userguess > 100:\n",
        "    print(f\"Your guess number {userguess} is OUT OF BOUNDS \\U0001F614. \\nTry again!\")\n",
        "    continue\n",
        "  print('Hej! Your guess is valid \\U0001F44D.')\n",
        "  break"
      ]
    },
    {
      "cell_type": "markdown",
      "metadata": {
        "id": "xv5x1gyJ2QMQ"
      },
      "source": [
        "#### Write a `while` loop that compares the player's guess to our number. If the player guesses correctly, break from the loop. Otherwise, tell the player if they're warmer or colder, and continue asking for guesses.\n",
        "\n",
        "Some hints:\n",
        "* it may help to sketch out all possible combinations on paper first!\n",
        "* you can use the `abs()` function to find the positive difference between two numbers\n",
        "* if you append all new guesses to the list, then the previous guess is given as `guesses[-2]`"
      ]
    },
    {
      "cell_type": "code",
      "execution_count": 20,
      "metadata": {
        "id": "LKOVoyCE2QMR",
        "colab": {
          "base_uri": "https://localhost:8080/"
        },
        "outputId": "08084388-47ec-4956-fe90-c96169c03c37"
      },
      "outputs": [
        {
          "output_type": "stream",
          "name": "stdout",
          "text": [
            "I have a number on my mind . What is your guess? 99\n",
            "COLD!\n",
            "I have a number on my mind . What is your guess? 66\n",
            "Warmer!\n",
            "I have a number on my mind . What is your guess? 77\n",
            "Colder!\n",
            "I have a number on my mind . What is your guess? 75\n",
            "Warmer!\n",
            "I have a number on my mind . What is your guess? 74\n",
            "Warmer!\n",
            "I have a number on my mind . What is your guess? 69\n",
            "Congratulation 🥳 You guessed right, using 6 attempts!\n"
          ]
        }
      ],
      "source": [
        "guesses = [0]\n",
        "while True:\n",
        "  userguess = int(input(\"I have a number on my mind. What is your guess? \"))\n",
        "  if userguess < 1 or userguess > 100:\n",
        "    print(f\"Your guess number {userguess} is OUT OF BOUNDS \\U0001F614. \\nTry again!\")\n",
        "    continue\n",
        "  if userguess == program_num:\n",
        "    if len(guesses) == 1:\n",
        "      print(f\"Congratulation \\U0001F973! You guessed right, using just {len(guesses)} attempt!\")\n",
        "    else:\n",
        "      print(f\"Congratulation \\U0001F973 You guessed right, using {len(guesses)} attempts!\")\n",
        "    break\n",
        "  \n",
        "  guesses.append(userguess)\n",
        "\n",
        "  if guesses[-2]:\n",
        "    if abs(program_num - guesses[-1]) < abs(program_num - guesses[-2]):\n",
        "      print(\"Warmer!\")\n",
        "    else:\n",
        "      print(\"Colder!\")\n",
        "  \n",
        "  else:\n",
        "    if abs(userguess-program_num) >= 10:\n",
        "      print(\"COLD!\")\n",
        "    else:\n",
        "      print(\"WARM!\")"
      ]
    },
    {
      "cell_type": "markdown",
      "metadata": {
        "id": "JGdTLDd_2QMS"
      },
      "source": [
        "That's it! You've just programmed your first game!\n",
        "\n",
        "In the next section we'll learn how to turn some of these repetitive actions into *functions* that can be called whenever we need them."
      ]
    },
    {
      "cell_type": "markdown",
      "metadata": {
        "id": "0DW-0DY72QMS"
      },
      "source": [
        "### Good Job!"
      ]
    }
  ],
  "metadata": {
    "kernelspec": {
      "display_name": "Python 3",
      "language": "python",
      "name": "python3"
    },
    "language_info": {
      "codemirror_mode": {
        "name": "ipython",
        "version": 3
      },
      "file_extension": ".py",
      "mimetype": "text/x-python",
      "name": "python",
      "nbconvert_exporter": "python",
      "pygments_lexer": "ipython3",
      "version": "3.6.2"
    },
    "colab": {
      "name": "Guessing_Game_Challenge.ipynb",
      "provenance": [],
      "collapsed_sections": [],
      "include_colab_link": true
    }
  },
  "nbformat": 4,
  "nbformat_minor": 0
}